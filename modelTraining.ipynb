{
 "metadata": {
  "language_info": {
   "codemirror_mode": {
    "name": "ipython",
    "version": 3
   },
   "file_extension": ".py",
   "mimetype": "text/x-python",
   "name": "python",
   "nbconvert_exporter": "python",
   "pygments_lexer": "ipython3",
   "version": "3.9.1"
  },
  "orig_nbformat": 2,
  "kernelspec": {
   "name": "pythonjvsc74a57bd077d6590aaf3df8e18e257d25dcb04f449449bd4d887ac6d65a10ad2a765160c4",
   "display_name": "Python 3.9.1  ('.bankruptcy': venv)"
  },
  "metadata": {
   "interpreter": {
    "hash": "77d6590aaf3df8e18e257d25dcb04f449449bd4d887ac6d65a10ad2a765160c4"
   }
  }
 },
 "nbformat": 4,
 "nbformat_minor": 2,
 "cells": [
  {
   "cell_type": "code",
   "execution_count": null,
   "metadata": {},
   "outputs": [],
   "source": [
    "import warnings\n",
    "warnings.filterwarnings(\"ignore\")\n",
    "\n",
    "import time\n",
    "import numpy as np\n",
    "import pandas as pd\n",
    "import matplotlib.pyplot as plt\n",
    "import seaborn as sns\n",
    "\n",
    "from imblearn.over_sampling import SMOTE\n",
    "import xgboost as xgb\n",
    "from sklearn.model_selection import GridSearchCV, RandomizedSearchCV, StratifiedKFold\n",
    "from sklearn.ensemble import RandomForestClassifier\n",
    "from sklearn.metrics import roc_auc_score, classification_report, confusion_matrix\n",
    "\n",
    "import pickle\n",
    "import sys\n",
    "from importlib import reload\n",
    "if \"visualizations\" in sys.modules: \n",
    "    reload(sys.modules[\"visualizations\"])\n",
    "else:\n",
    "    import visualizations\n",
    "vis = visualizations.Visualizations()\n",
    "if \"modelling\" in sys.modules: \n",
    "    reload(sys.modules[\"modelling\"])\n",
    "else:\n",
    "    import modelling\n",
    "mod = modelling.Modelling(vis=vis)\n",
    "\n",
    "RANDOM_SEED = 1243"
   ]
  },
  {
   "cell_type": "code",
   "execution_count": null,
   "metadata": {},
   "outputs": [],
   "source": [
    "def printTimeLapsed(startTime, endTime):\n",
    "    seconds = endTime - startTime\n",
    "    minutes = seconds // 60\n",
    "    seconds = seconds % 60\n",
    "    hours = minutes // 60\n",
    "    minutes = minutes % 60\n",
    "    print(\"Time Lapsed = {0}:{1}:{2}\".format(int(hours), int(minutes), int(seconds)))"
   ]
  },
  {
   "cell_type": "code",
   "execution_count": null,
   "metadata": {},
   "outputs": [],
   "source": [
    "modelData = pickle.load(file=open(\"data/modelData.pkl\", \"rb\"))\n",
    "X_train = modelData[\"X_train\"]\n",
    "y_train = modelData[\"y_train\"]\n",
    "X_test = modelData[\"X_test\"]\n",
    "y_test = modelData[\"y_test\"]\n",
    "\n",
    "print(\"Shape of the train/test data: %s / %s\" % (str(X_train.shape), str(X_test.shape)))"
   ]
  },
  {
   "cell_type": "code",
   "execution_count": null,
   "metadata": {},
   "outputs": [],
   "source": [
    "smoteModel = SMOTE(random_state=RANDOM_SEED)\n",
    "X_train_sm, y_train_sm = smoteModel.fit_resample(X_train, y_train)"
   ]
  },
  {
   "cell_type": "code",
   "execution_count": null,
   "metadata": {},
   "outputs": [],
   "source": [
    "rfModel = RandomForestClassifier(n_estimators=200, random_state=RANDOM_SEED)\n",
    "rfModel.fit(X_train_sm, y_train_sm)\n",
    "rfPreds = rfModel.predict(X_test)"
   ]
  },
  {
   "cell_type": "code",
   "execution_count": null,
   "metadata": {},
   "outputs": [],
   "source": [
    "mod.getModelPerformance(trueVals=y_test, preds=rfPreds, figSize=(5,5), plotTitle=\"Random Forests Performance\", targetNames=[\"Stable\",\"Bankrupt\"])"
   ]
  },
  {
   "cell_type": "code",
   "execution_count": null,
   "metadata": {},
   "outputs": [],
   "source": [
    "xgbModel = xgb.XGBClassifier(\n",
    "    nrounds= 1000, max_depth=3, eta=0.1, objective=\"binary:logistic\", eval_metric=\"auc\", \n",
    "    verbosity=0, use_label_encoder=False, random_state=RANDOM_SEED)\n",
    "xgbModel.fit(X_train_sm, y_train_sm)\n",
    "xgbPreds = xgbModel.predict(X_test)\n"
   ]
  },
  {
   "cell_type": "code",
   "execution_count": null,
   "metadata": {},
   "outputs": [],
   "source": [
    "mod.getModelPerformance(trueVals=y_test, preds=xgbPreds, figSize=(5,5), plotTitle=\"XGBoost Performance\", targetNames=[\"Stable\",\"Bankrupt\"])"
   ]
  },
  {
   "cell_type": "code",
   "execution_count": null,
   "metadata": {},
   "outputs": [],
   "source": [
    "xgbParams = {\n",
    "    \"n_estimators\": [1000, 1500, 2000],\n",
    "    \"eta\": [0.01, 0.03, 0.1],\n",
    "    \"gamma\": [0.03, 0.1, 0.3],\n",
    "    \"lambda\": [1, 3, 10],\n",
    "    #\"max_depth\": [3, 6, 10],\n",
    "    #\"min_child_weight\": [1, 3, 5],\n",
    "    #\"subsample\": [0.67, 1.0],\n",
    "    #\"colsample_bytree\": [0.67, 1.0]\n",
    "    }\n",
    "xgbcvModel = xgb.XGBClassifier(\n",
    "    objective=\"binary:logistic\", eval_metric=\"auc\", nthreads=1, silent=True, \n",
    "    use_label_encoder=False, random_state=RANDOM_SEED\n",
    "    )"
   ]
  },
  {
   "cell_type": "code",
   "execution_count": null,
   "metadata": {},
   "outputs": [],
   "source": [
    "nfolds = 5\n",
    "nParamCombos = 50\n",
    "stratKF = StratifiedKFold(n_splits=nfolds, shuffle=True, random_state=RANDOM_SEED)\n",
    "randomSearch = RandomizedSearchCV(\n",
    "    xgbcvModel, param_distributions=xgbParams, n_iter=nParamCombos, scoring=\"roc_auc\", \n",
    "    n_jobs=4, cv=stratKF.split(X_train_sm, y_train_sm), verbose=3, random_state=RANDOM_SEED\n",
    "    )"
   ]
  },
  {
   "cell_type": "code",
   "execution_count": null,
   "metadata": {},
   "outputs": [],
   "source": [
    "startTime = time.time()\n",
    "randomSearch.fit(X_train_sm, y_train_sm)\n",
    "endTime = time.time()\n",
    "printTimeLapsed(startTime=startTime, endTime=endTime)"
   ]
  },
  {
   "cell_type": "code",
   "execution_count": null,
   "metadata": {},
   "outputs": [],
   "source": [
    "print(randomSearch.best_params_)\n",
    "print(\"Best score from randomized grid search = %.4f\" % randomSearch.best_score_)"
   ]
  },
  {
   "cell_type": "code",
   "execution_count": null,
   "metadata": {},
   "outputs": [],
   "source": [
    "xgbcvPreds = randomSearch.predict(X_test)\n",
    "mod.getModelPerformance(trueVals=y_test, preds=xgbPreds, figSize=(5,5), plotTitle=\"XGBoost Performance\", targetNames=[\"Stable\",\"Bankrupt\"])"
   ]
  },
  {
   "cell_type": "code",
   "execution_count": null,
   "metadata": {},
   "outputs": [],
   "source": []
  }
 ]
}